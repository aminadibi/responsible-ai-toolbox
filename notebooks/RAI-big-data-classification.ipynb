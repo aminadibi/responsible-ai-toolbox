{
 "cells": [
  {
   "cell_type": "code",
   "execution_count": 1,
   "metadata": {},
   "outputs": [
    {
     "name": "stderr",
     "output_type": "stream",
     "text": [
      "pandas.util.testing is deprecated. Use the functions in the public API at pandas.testing instead.\n"
     ]
    }
   ],
   "source": [
    "import pandas as pd\n",
    "import pytest\n",
    "import shap\n",
    "import sklearn\n",
    "from sklearn.datasets import fetch_california_housing, load_iris\n",
    "from sklearn.ensemble import RandomForestRegressor\n",
    "from sklearn.model_selection import train_test_split\n",
    "\n",
    "from responsibleai import RAIInsights"
   ]
  },
  {
   "cell_type": "code",
   "execution_count": 2,
   "metadata": {},
   "outputs": [
    {
     "name": "stderr",
     "output_type": "stream",
     "text": [
      "\n",
      "A value is trying to be set on a copy of a slice from a DataFrame.\n",
      "Try using .loc[row_indexer,col_indexer] = value instead\n",
      "\n",
      "See the caveats in the documentation: https://pandas.pydata.org/pandas-docs/stable/user_guide/indexing.html#returning-a-view-versus-a-copy\n"
     ]
    }
   ],
   "source": [
    "X, y = shap.datasets.adult()\n",
    "y = [1 if r else 0 for r in y]\n",
    "\n",
    "X, y = sklearn.utils.resample(\n",
    "    X, y, n_samples=1000, random_state=7, stratify=y)\n",
    "\n",
    "X_train, X_test, y_train, y_test = train_test_split(\n",
    "    X, y, test_size=0.01, random_state=7, stratify=y)\n",
    "\n",
    "knn = sklearn.neighbors.KNeighborsClassifier()\n",
    "knn.fit(X_train, y_train)\n",
    "\n",
    "X['Income'] = y\n",
    "X_test['Income'] = y_test"
   ]
  },
  {
   "cell_type": "code",
   "execution_count": 3,
   "metadata": {},
   "outputs": [
    {
     "name": "stderr",
     "output_type": "stream",
     "text": [
      "100%|██████████████████████████████████████████████████████████████████████████████████| 10/10 [00:01<00:00,  8.98it/s]\n",
      "categorical_feature in Dataset is overridden.\n",
      "New categorical_feature is [1, 2, 3, 4, 5, 6, 7, 11]\n",
      "categorical_feature keyword has been found in `params` and will be ignored.\n",
      "Please use categorical_feature argument of the Dataset constructor to pass this parameter.\n"
     ]
    }
   ],
   "source": [
    "ri = RAIInsights(knn, X, X_test, 'Income', 'classification',\n",
    "                 categorical_features=['Workclass', 'Education-Num',\n",
    "                                       'Marital Status',\n",
    "                                       'Occupation', 'Relationship',\n",
    "                                       'Race',\n",
    "                                       'Sex', 'Country'])\n",
    "\n",
    "ri.explainer.add()\n",
    "ri.counterfactual.add(10, desired_class='opposite')\n",
    "ri.error_analysis.add()\n",
    "ri.causal.add(treatment_features=['Hours per week'],\n",
    "              heterogeneity_features=None,\n",
    "              upper_bound_on_cat_expansion=42,\n",
    "              skip_cat_limit_checks=True)\n",
    "\n",
    "ri.compute()"
   ]
  },
  {
   "cell_type": "code",
   "execution_count": 4,
   "metadata": {},
   "outputs": [
    {
     "name": "stdout",
     "output_type": "stream",
     "text": [
      "ResponsibleAI started at http://localhost:5000\n"
     ]
    },
    {
     "data": {
      "text/plain": [
       "<raiwidgets_big_data.responsibleai_big_data_dashboard.ResponsibleAIBigDataDashboard at 0x200ed3aae48>"
      ]
     },
     "execution_count": 4,
     "metadata": {},
     "output_type": "execute_result"
    },
    {
     "name": "stderr",
     "output_type": "stream",
     "text": [
      "categorical_feature in Dataset is overridden.\n",
      "New categorical_feature is [1, 2, 3, 4, 5, 6, 7, 11]\n",
      "categorical_feature in Dataset is overridden.\n",
      "New categorical_feature is [1, 2, 3, 4, 5, 6, 7, 11]\n",
      "categorical_feature in Dataset is overridden.\n",
      "New categorical_feature is [1, 2, 3, 4, 5, 6, 7, 11]\n",
      "categorical_feature in Dataset is overridden.\n",
      "New categorical_feature is [1, 2, 3, 4, 5, 6, 7, 11]\n"
     ]
    }
   ],
   "source": [
    "from raiwidgets_big_data import ResponsibleAIBigDataDashboard\n",
    "ResponsibleAIBigDataDashboard(ri)\n"
   ]
  },
  {
   "cell_type": "code",
   "execution_count": null,
   "metadata": {},
   "outputs": [],
   "source": []
  }
 ],
 "metadata": {
  "kernelspec": {
   "display_name": "big_data",
   "language": "python",
   "name": "big_data"
  },
  "language_info": {
   "codemirror_mode": {
    "name": "ipython",
    "version": 3
   },
   "file_extension": ".py",
   "mimetype": "text/x-python",
   "name": "python",
   "nbconvert_exporter": "python",
   "pygments_lexer": "ipython3",
   "version": "3.7.6"
  },
  "vscode": {
   "interpreter": {
    "hash": "57e4c06d8ea492d9f01d85743a9f461518e3243658e0a11523ceaa4d36a0f9d5"
   }
  }
 },
 "nbformat": 4,
 "nbformat_minor": 2
}
